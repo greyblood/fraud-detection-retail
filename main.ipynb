{
 "cells": [
  {
   "cell_type": "code",
   "execution_count": 4,
   "id": "61fdf4d5-e4ba-4499-937f-686ca077755e",
   "metadata": {},
   "outputs": [
    {
     "name": "stdout",
     "output_type": "stream",
     "text": [
      "       InvoiceNo StockCode                     Description  Quantity  \\\n",
      "870       536477     21137        BLACK RECORD COVER FRAME       480   \n",
      "4505      536785     22423        REGENCY CAKESTAND 3 TIER       144   \n",
      "4946      536830     21915          RED  HARMONICA IN BOX       1400   \n",
      "6607      536970     22423        REGENCY CAKESTAND 3 TIER       120   \n",
      "10205     537235     22622  BOX OF VINTAGE ALPHABET BLOCKS       156   \n",
      "...          ...       ...                             ...       ...   \n",
      "540061    581457     23543             WALL ART KEEP CALM        698   \n",
      "540063    581457     23553     LANDMARK FRAME CAMDEN TOWN        120   \n",
      "540421    581483     23843     PAPER CRAFT , LITTLE BIRDIE     80995   \n",
      "540422   C581484     23843     PAPER CRAFT , LITTLE BIRDIE    -80995   \n",
      "541540    581498       DOT                  DOTCOM POSTAGE         1   \n",
      "\n",
      "               InvoiceDate  UnitPrice  CustomerID         Country  \\\n",
      "870    2010-12-01 12:27:00       3.39     16210.0  United Kingdom   \n",
      "4505   2010-12-02 15:22:00      10.95     15061.0  United Kingdom   \n",
      "4946   2010-12-02 17:38:00       1.06     16754.0  United Kingdom   \n",
      "6607   2010-12-03 13:12:00      10.95     17949.0  United Kingdom   \n",
      "10205  2010-12-06 09:45:00       8.50     17381.0  United Kingdom   \n",
      "...                    ...        ...         ...             ...   \n",
      "540061 2011-12-08 18:43:00       4.15     18102.0  United Kingdom   \n",
      "540063 2011-12-08 18:43:00      10.95     18102.0  United Kingdom   \n",
      "540421 2011-12-09 09:15:00       2.08     16446.0  United Kingdom   \n",
      "540422 2011-12-09 09:27:00       2.08     16446.0  United Kingdom   \n",
      "541540 2011-12-09 10:26:00    1714.17         NaN  United Kingdom   \n",
      "\n",
      "        TotalAmount      ZScore  IsFraud  \n",
      "870         1627.20    4.248063     True  \n",
      "4505        1576.80    4.115015     True  \n",
      "4946        1484.00    3.870038     True  \n",
      "6607        1314.00    3.421265     True  \n",
      "10205       1326.00    3.452943     True  \n",
      "...             ...         ...      ...  \n",
      "540061      2896.70    7.599340     True  \n",
      "540063      1314.00    3.421265     True  \n",
      "540421    168469.60  444.685320     True  \n",
      "540422   -168469.60 -444.780290     True  \n",
      "541540      1714.17    4.477650     True  \n",
      "\n",
      "[403 rows x 11 columns]\n"
     ]
    }
   ],
   "source": [
    "import pandas as pd\n",
    "from scipy import stats\n",
    "\n",
    "data = pd.read_excel('OnlineRetail.xlsx', sheet_name='Online Retail')\n",
    "data['TotalAmount'] = data['Quantity'] * data['UnitPrice']\n",
    "\n",
    "mean_amount = data['TotalAmount'].mean()\n",
    "std_amount = data['TotalAmount'].std()\n",
    "\n",
    "data['ZScore'] = (data['TotalAmount'] - mean_amount) / std_amount\n",
    "\n",
    "data['IsFraud'] = data['ZScore'].abs() > 3\n",
    "\n",
    "fraudulent_transactions = data[data['IsFraud']]\n",
    "print(fraudulent_transactions)"
   ]
  },
  {
   "cell_type": "code",
   "execution_count": null,
   "id": "52c93a63-cbdd-4a40-948f-025193c6d37b",
   "metadata": {},
   "outputs": [],
   "source": []
  },
  {
   "cell_type": "code",
   "execution_count": null,
   "id": "ed42b5f8-2cc8-49e7-a0d5-13729833ca7d",
   "metadata": {},
   "outputs": [],
   "source": []
  }
 ],
 "metadata": {
  "kernelspec": {
   "display_name": "Python 3 (ipykernel)",
   "language": "python",
   "name": "python3"
  },
  "language_info": {
   "codemirror_mode": {
    "name": "ipython",
    "version": 3
   },
   "file_extension": ".py",
   "mimetype": "text/x-python",
   "name": "python",
   "nbconvert_exporter": "python",
   "pygments_lexer": "ipython3",
   "version": "3.10.1"
  }
 },
 "nbformat": 4,
 "nbformat_minor": 5
}
